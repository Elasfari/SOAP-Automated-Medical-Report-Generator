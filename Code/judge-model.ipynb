{
 "cells": [
  {
   "cell_type": "code",
   "execution_count": 1,
   "metadata": {
    "execution": {
     "iopub.execute_input": "2025-05-24T18:18:25.277950Z",
     "iopub.status.busy": "2025-05-24T18:18:25.277755Z",
     "iopub.status.idle": "2025-05-24T18:18:31.223410Z",
     "shell.execute_reply": "2025-05-24T18:18:31.219814Z",
     "shell.execute_reply.started": "2025-05-24T18:18:25.277928Z"
    },
    "trusted": true
   },
   "outputs": [
    {
     "name": "stdout",
     "output_type": "stream",
     "text": [
      "Collecting groq\n",
      "  Downloading groq-0.25.0-py3-none-any.whl (129 kB)\n",
      "\u001b[2K     \u001b[90m━━━━━━━━━━━━━━━━━━━━━━━━━━━━━━━━━━━━━━━\u001b[0m \u001b[32m129.4/129.4 kB\u001b[0m \u001b[31m3.4 MB/s\u001b[0m eta \u001b[36m0:00:00\u001b[0ma \u001b[36m0:00:01\u001b[0m\n",
      "\u001b[?25hRequirement already satisfied: sniffio in /usr/local/lib/python3.10/site-packages (from groq) (1.3.1)\n",
      "Requirement already satisfied: pydantic<3,>=1.9.0 in /usr/local/lib/python3.10/site-packages (from groq) (2.11.3)\n",
      "Collecting distro<2,>=1.7.0\n",
      "  Downloading distro-1.9.0-py3-none-any.whl (20 kB)\n",
      "Requirement already satisfied: anyio<5,>=3.5.0 in /usr/local/lib/python3.10/site-packages (from groq) (4.9.0)\n",
      "Collecting httpx<1,>=0.23.0\n",
      "  Downloading httpx-0.28.1-py3-none-any.whl (73 kB)\n",
      "\u001b[2K     \u001b[90m━━━━━━━━━━━━━━━━━━━━━━━━━━━━━━━━━━━━━━━━\u001b[0m \u001b[32m73.5/73.5 kB\u001b[0m \u001b[31m5.7 MB/s\u001b[0m eta \u001b[36m0:00:00\u001b[0m\n",
      "\u001b[?25hRequirement already satisfied: typing-extensions<5,>=4.10 in /usr/local/lib/python3.10/site-packages (from groq) (4.13.1)\n",
      "Requirement already satisfied: exceptiongroup>=1.0.2 in /usr/local/lib/python3.10/site-packages (from anyio<5,>=3.5.0->groq) (1.2.2)\n",
      "Requirement already satisfied: idna>=2.8 in /usr/local/lib/python3.10/site-packages (from anyio<5,>=3.5.0->groq) (3.10)\n",
      "Collecting httpcore==1.*\n",
      "  Downloading httpcore-1.0.9-py3-none-any.whl (78 kB)\n",
      "\u001b[2K     \u001b[90m━━━━━━━━━━━━━━━━━━━━━━━━━━━━━━━━━━━━━━━━\u001b[0m \u001b[32m78.8/78.8 kB\u001b[0m \u001b[31m6.7 MB/s\u001b[0m eta \u001b[36m0:00:00\u001b[0m\n",
      "\u001b[?25hRequirement already satisfied: certifi in /usr/local/lib/python3.10/site-packages (from httpx<1,>=0.23.0->groq) (2025.1.31)\n",
      "Collecting h11>=0.16\n",
      "  Downloading h11-0.16.0-py3-none-any.whl (37 kB)\n",
      "Requirement already satisfied: typing-inspection>=0.4.0 in /usr/local/lib/python3.10/site-packages (from pydantic<3,>=1.9.0->groq) (0.4.0)\n",
      "Requirement already satisfied: pydantic-core==2.33.1 in /usr/local/lib/python3.10/site-packages (from pydantic<3,>=1.9.0->groq) (2.33.1)\n",
      "Requirement already satisfied: annotated-types>=0.6.0 in /usr/local/lib/python3.10/site-packages (from pydantic<3,>=1.9.0->groq) (0.7.0)\n",
      "Installing collected packages: h11, distro, httpcore, httpx, groq\n",
      "Successfully installed distro-1.9.0 groq-0.25.0 h11-0.16.0 httpcore-1.0.9 httpx-0.28.1\n",
      "\u001b[33mWARNING: Running pip as the 'root' user can result in broken permissions and conflicting behaviour with the system package manager. It is recommended to use a virtual environment instead: https://pip.pypa.io/warnings/venv\u001b[0m\u001b[33m\n",
      "\u001b[0m\n",
      "\u001b[1m[\u001b[0m\u001b[34;49mnotice\u001b[0m\u001b[1;39;49m]\u001b[0m\u001b[39;49m A new release of pip is available: \u001b[0m\u001b[31;49m23.0.1\u001b[0m\u001b[39;49m -> \u001b[0m\u001b[32;49m25.1.1\u001b[0m\n",
      "\u001b[1m[\u001b[0m\u001b[34;49mnotice\u001b[0m\u001b[1;39;49m]\u001b[0m\u001b[39;49m To update, run: \u001b[0m\u001b[32;49mpip install --upgrade pip\u001b[0m\n"
     ]
    }
   ],
   "source": [
    "!pip install groq"
   ]
  },
  {
   "cell_type": "code",
   "execution_count": 2,
   "metadata": {
    "execution": {
     "iopub.execute_input": "2025-05-24T18:18:31.227245Z",
     "iopub.status.busy": "2025-05-24T18:18:31.226919Z",
     "iopub.status.idle": "2025-05-24T18:18:32.368289Z",
     "shell.execute_reply": "2025-05-24T18:18:32.361960Z",
     "shell.execute_reply.started": "2025-05-24T18:18:31.227221Z"
    },
    "trusted": true
   },
   "outputs": [],
   "source": [
    "import pandas as pd\n",
    "from groq import Groq\n",
    "from pathlib import Path\n",
    "import os\n"
   ]
  },
  {
   "cell_type": "code",
   "execution_count": null,
   "metadata": {
    "execution": {
     "iopub.execute_input": "2025-05-24T18:18:32.370846Z",
     "iopub.status.busy": "2025-05-24T18:18:32.370495Z",
     "iopub.status.idle": "2025-05-24T18:18:32.446007Z",
     "shell.execute_reply": "2025-05-24T18:18:32.440029Z",
     "shell.execute_reply.started": "2025-05-24T18:18:32.370823Z"
    },
    "trusted": true
   },
   "outputs": [],
   "source": [
    "# Initialize Groq client with API key from environment variable\n",
    "client = Groq(api_key=\"\")"
   ]
  },
  {
   "cell_type": "code",
   "execution_count": 4,
   "metadata": {
    "execution": {
     "iopub.execute_input": "2025-05-24T18:18:32.447548Z",
     "iopub.status.busy": "2025-05-24T18:18:32.447319Z",
     "iopub.status.idle": "2025-05-24T18:18:32.459697Z",
     "shell.execute_reply": "2025-05-24T18:18:32.454781Z",
     "shell.execute_reply.started": "2025-05-24T18:18:32.447527Z"
    },
    "trusted": true
   },
   "outputs": [],
   "source": [
    "\n",
    "\n",
    "# Function to generate evaluation using Groq API\n",
    "def generate_evaluation(prompt):\n",
    "    try:\n",
    "        # Call Groq API with Llama 3 70B\n",
    "        chat_completion = client.chat.completions.create(\n",
    "            model=\"llama3-70b-8192\",\n",
    "            messages=[\n",
    "                {\"role\": \"user\", \"content\": prompt}\n",
    "            ],\n",
    "            max_tokens=200,  # Reduced from 500 for efficiency\n",
    "            temperature=0.3,\n",
    "            top_p=1.0\n",
    "        )\n",
    "        # Extract generated text\n",
    "        generated_text = chat_completion.choices[0].message.content\n",
    "        return generated_text\n",
    "    except Exception as e:\n",
    "        print(f\"Error generating evaluation: {e}\")\n",
    "        return \"Score: [0]\"\n",
    "\n",
    "\n",
    "\n",
    "# Load your CSV files (results from all 5 models)\n",
    "# csv_files = [\"generated_soap_results_without_prompt.csv\", \"sara_results.csv\", \"ziad_results.csv\",\"yassin_results\",\"small_michael_results.csv\"]\n",
    "csv_files = [\"generated_soap_results_without_prompt.csv\", \"sara_results.csv\", \"ziad_results.csv\",\"yassin_results\"]"
   ]
  },
  {
   "cell_type": "code",
   "execution_count": null,
   "metadata": {
    "_cell_guid": "b1076dfc-b9ad-4769-8c92-a6c4dae69d19",
    "_uuid": "8f2839f25d086af736a60e9eeb907d3b93b6e0e5",
    "execution": {
     "iopub.execute_input": "2025-05-24T18:18:32.461804Z",
     "iopub.status.busy": "2025-05-24T18:18:32.461597Z"
    },
    "trusted": true
   },
   "outputs": [],
   "source": [
    "# Prepare a dictionary to store results for each model\n",
    "all_results = {}\n",
    "\n",
    "for file_name in csv_files:\n",
    "    file_path = f\"/kaggle/input/testing-results-nlp-project/{file_name}\"\n",
    "    \n",
    "    # Check if file exists\n",
    "    if not Path(file_path).is_file():\n",
    "        print(f\"File not found: {file_name}\")\n",
    "        continue\n",
    "    \n",
    "    # Load the CSV for the current model\n",
    "    try:\n",
    "        df = pd.read_csv(file_path)\n",
    "        \n",
    "    except Exception as e:\n",
    "        print(f\"Error loading {file_name}: {e}\")\n",
    "        continue\n",
    "    \n",
    "    # Verify required columns\n",
    "    required_columns = [\"Generated SOAP\", \"Reference SOAP\"]\n",
    "    if not all(col in df.columns for col in required_columns):\n",
    "        print(f\"Missing required columns in {file_name}: {required_columns}\")\n",
    "        continue\n",
    "    \n",
    "    # Prepare lists for storing evaluation results\n",
    "    scores = []\n",
    "    \n",
    "    for i, row in df.iterrows():\n",
    "        generated_soap = row[\"Generated SOAP\"]\n",
    "        reference_soap = row[\"Reference SOAP\"]\n",
    "        \n",
    "        # Prepare the evaluation prompt\n",
    "        prompt = f\"\"\"\n",
    "        Evaluate the following SOAP notes:\n",
    "\n",
    "        Reference SOAP:\n",
    "        {reference_soap}\n",
    "\n",
    "        Generated SOAP:\n",
    "        {generated_soap}\n",
    "\n",
    "        Rate the quality of the generated SOAP note on a scale of 0-10 based on the following criteria:\n",
    "        - Completeness: How much of the necessary information is included (0.25 weight)\n",
    "        - Correctness: Medical accuracy of the content (0.35 weight)\n",
    "        - Organization: Structure follows SOAP format (0.20 weight)\n",
    "        - Clinical Relevance: Relevance of the content to clinical practice (0.20 weight)\n",
    "\n",
    "        Provide only the score from 0 to 10 based on the weighted evaluation.\n",
    "        Score: [ ]\n",
    "        \"\"\"\n",
    "        \n",
    "        # Generate evaluation using Groq API\n",
    "        generated_content = generate_evaluation(prompt)\n",
    "        # print(f\"Row {i+1}/{len(df)} in {file_name}: {generated_content}\")\n",
    "\n",
    "        try:\n",
    "            # Extract score from the model's response\n",
    "            score_line = generated_content.split(\"Score:\")[1].split(\"\\n\")[0].strip()\n",
    "            score = float(score_line.replace(\"[\", \"\").replace(\"]\", \"\"))\n",
    "            scores.append(score)\n",
    "        except Exception as e:\n",
    "            print(f\"Failed to parse output at row {i+1} in {file_name}: {e}\")\n",
    "            scores.append(0.0)\n",
    "    \n",
    "    # Save the judged results for the current model\n",
    "    df[\"Judge Score\"] = scores\n",
    "\n",
    "    # Store the evaluated dataframe in the dictionary\n",
    "    all_results[file_name] = df\n",
    "\n"
   ]
  },
  {
   "cell_type": "code",
   "execution_count": null,
   "metadata": {
    "trusted": true
   },
   "outputs": [],
   "source": [
    "# Save all judged results for each model\n",
    "for file_name, result_df in all_results.items():\n",
    "    output_file = f\"judged22_{file_name}\"\n",
    "    result_df.to_csv(output_file, index=False)\n",
    "    print(f\"Evaluation for {file_name} completed and saved as {output_file}!\")\n",
    "\n",
    "print(\"All evaluations completed!\")\n"
   ]
  },
  {
   "cell_type": "code",
   "execution_count": null,
   "metadata": {
    "trusted": true
   },
   "outputs": [],
   "source": [
    "small_t5_full_parameter_tuning=pd.read_csv(\"/kaggle/working/judged22_sara_results.csv\")\n",
    "facebook_bart_large_TL=pd.read_csv(\"/kaggle/working/judged22_generated_soap_results_without_prompt.csv\")\n",
    "Llama_3_2_3B_prefix=pd.read_csv(\"/kaggle/working/judged22_yassin_results.csv\")\n",
    "tiny_llama=pd.read_csv(\"/kaggle/working/judged22_ziad_results.csv\")\n",
    "# microsoft_phi_2_LoRA=pd.read_csv(\"/kaggle/working/judged22_small_michael_results.csv\")"
   ]
  },
  {
   "cell_type": "code",
   "execution_count": null,
   "metadata": {
    "trusted": true
   },
   "outputs": [],
   "source": [
    "small_t5_full_parameter_tuning[\"Judge Score\"].mean()\n",
    "facebook_bart_large_TL[\"Judge Score\"].mean()\n",
    "Llama_3_2_3B_prefix[\"Judge Score\"].mean()\n",
    "tiny_llama[\"Judge Score\"].mean()\n",
    "# microsoft_phi_2_LoRA[\"Judge Score\"].mean()"
   ]
  },
  {
   "cell_type": "code",
   "execution_count": null,
   "metadata": {
    "trusted": true
   },
   "outputs": [],
   "source": [
    "print(\"small_t5_full_parameter_tuning Score:\",small_t5_full_parameter_tuning[\"Judge Score\"].mean())\n",
    "print(\"facebook_bart_large_TL:\",facebook_bart_large_TL[\"Judge Score\"].mean())\n",
    "print(\"Llama_3_2_3B_prefix:\",Llama_3_2_3B_prefix[\"Judge Score\"].mean())\n",
    "print(\"tiny_llama:\",tiny_llama[\"Judge Score\"].mean())\n",
    "# print(\"microsoft_phi_2_LoRA:\",microsoft_phi_2_LoRA[\"Judge Score\"].mean())"
   ]
  }
 ],
 "metadata": {
  "kaggle": {
   "accelerator": "tpu1vmV38",
   "dataSources": [
    {
     "datasetId": 7269902,
     "sourceId": 11932309,
     "sourceType": "datasetVersion"
    }
   ],
   "dockerImageVersionId": 31013,
   "isGpuEnabled": false,
   "isInternetEnabled": true,
   "language": "python",
   "sourceType": "notebook"
  },
  "kernelspec": {
   "display_name": "Python 3",
   "language": "python",
   "name": "python3"
  },
  "language_info": {
   "codemirror_mode": {
    "name": "ipython",
    "version": 3
   },
   "file_extension": ".py",
   "mimetype": "text/x-python",
   "name": "python",
   "nbconvert_exporter": "python",
   "pygments_lexer": "ipython3",
   "version": "3.10.16"
  }
 },
 "nbformat": 4,
 "nbformat_minor": 4
}
